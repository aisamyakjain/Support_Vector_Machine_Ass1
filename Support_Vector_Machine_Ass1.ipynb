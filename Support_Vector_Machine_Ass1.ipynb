{
 "cells": [
  {
   "cell_type": "markdown",
   "id": "e3be4405-4391-403b-9731-5c4c5cac7d15",
   "metadata": {},
   "source": [
    "Q1. What is the mathematical formula for a linear SVM\n",
    "\n",
    "Answer: The mathematical formula for a linear Support Vector Machine (SVM) can be expressed as follows: maximize w, b: ||w|| subject to y_i(wx_i + b) ≥ 1 for all training samples (x_i, y_i)."
   ]
  },
  {
   "cell_type": "markdown",
   "id": "bf46b12e-1efa-487d-9fcd-57146f1fd3da",
   "metadata": {},
   "source": [
    "Q2. What is the objective function of a linear SVM \n",
    "\n",
    "Answer: The objective function of a linear Support Vector Machine (SVM) is to minimize the norm of the weight vector while maximizing the margin between different classes of data points."
   ]
  },
  {
   "cell_type": "markdown",
   "id": "a1407ff9-d6be-43c2-ab0d-fd5652b14163",
   "metadata": {},
   "source": [
    "Q3. What is the kernel trick in SVM in 25 words\n",
    "\n",
    "Answer: The kernel trick in SVM is a method of implicitly mapping data into higher-dimensional spaces to enable linear classification of non-linearly separable data."
   ]
  },
  {
   "cell_type": "markdown",
   "id": "e210112b-3f4c-4a76-bea1-6e6289fa4e4f",
   "metadata": {},
   "source": [
    "Q4. What is the role of support vectors in SVM Explain with example in 25 words\n",
    "\n",
    "Answer: Support vectors are the data points closest to the decision boundary in SVM. They determine the margin and the separating hyperplane, influencing the classification of new instances."
   ]
  },
  {
   "cell_type": "markdown",
   "id": "dfa1a03b-ba3a-4ae2-b7c4-7a1cefa26186",
   "metadata": {},
   "source": [
    "Q5. Illustrate with examples and graphs of Hyperplane, Marginal plane, Soft margin and Hard margin in \n",
    "SVM\n",
    "\n",
    "Answer: Sure! Let's start with a two-dimensional example to visualize these concepts.\n",
    "\n",
    "1. Hyperplane: In SVM, the hyperplane is the decision boundary that separates the data points of different classes. For a linear SVM, the hyperplane is a line. In the example below, the red line represents the hyperplane.\n",
    "\n",
    "```\n",
    "         +        +\n",
    "          \\      /\n",
    "           \\    /\n",
    "            \\  /\n",
    "  -        +  +        -\n",
    "           /  \\\n",
    "          /    \\\n",
    "         /      \\\n",
    "```\n",
    "\n",
    "2. Marginal Plane: The marginal plane refers to the planes parallel to the hyperplane that touch the support vectors. These planes are equidistant from the hyperplane and define the margin. In the example, the dashed lines represent the marginal planes.\n",
    "\n",
    "```\n",
    "         +        +\n",
    "        --------->   Marginal Plane\n",
    "        |      |\n",
    "        |  +   |\n",
    "        |      |\n",
    "  -     +        +     -\n",
    "        |      |\n",
    "        --------->   Marginal Plane\n",
    "```\n",
    "\n",
    "3. Soft Margin: Soft margin allows for some misclassification by allowing data points to fall within the margin or even on the wrong side of the hyperplane. It uses a slack variable to tolerate misclassified points. In the example below, the circles represent misclassified points within the margin.\n",
    "\n",
    "```\n",
    "         +        +\n",
    "          \\      /\n",
    "           \\    /\n",
    "            \\  /\n",
    "  -        +  +  o     -\n",
    "           /  \\\n",
    "          /    \\\n",
    "         /      \\\n",
    "```\n",
    "\n",
    "4. Hard Margin: Hard margin SVM aims for perfect separation and does not allow any misclassification. It requires the data points to be linearly separable without any points within the margin or on the wrong side of the hyperplane. In the example, there are no misclassified points within the margin.\n",
    "\n",
    "```\n",
    "         +        +\n",
    "                   Marginal Plane\n",
    "        |      |\n",
    "        |  +   |\n",
    "        |      |\n",
    "  -     +        +     -\n",
    "        |      |\n",
    "```\n",
    "\n",
    "Note: In reality, SVM can handle high-dimensional spaces and non-linear boundaries through the use of the kernel trick. The examples provided are simplified illustrations for better understanding."
   ]
  },
  {
   "cell_type": "code",
   "execution_count": null,
   "id": "265463c9-d1e2-4017-a905-68e5dc70f6ef",
   "metadata": {},
   "outputs": [],
   "source": []
  }
 ],
 "metadata": {
  "kernelspec": {
   "display_name": "Python 3 (ipykernel)",
   "language": "python",
   "name": "python3"
  },
  "language_info": {
   "codemirror_mode": {
    "name": "ipython",
    "version": 3
   },
   "file_extension": ".py",
   "mimetype": "text/x-python",
   "name": "python",
   "nbconvert_exporter": "python",
   "pygments_lexer": "ipython3",
   "version": "3.10.8"
  }
 },
 "nbformat": 4,
 "nbformat_minor": 5
}
